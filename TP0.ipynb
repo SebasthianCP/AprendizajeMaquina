{
  "nbformat": 4,
  "nbformat_minor": 0,
  "metadata": {
    "colab": {
      "name": "TP0.ipynb",
      "provenance": [],
      "collapsed_sections": []
    },
    "kernelspec": {
      "name": "python3",
      "display_name": "Python 3"
    },
    "language_info": {
      "name": "python"
    }
  },
  "cells": [
    {
      "cell_type": "markdown",
      "metadata": {
        "id": "LO4nV3JKBiYx"
      },
      "source": [
        "# Trabajo Práctico 0 - Cuarteto del Anscombe\n",
        "\n",
        "La peculiaridad de este grupo de 4 datasets es que todos comparten los mismos parámetros estadísticos. Se presenta entonces el siguiente desafío: dado 4 puntos distintos ((16, 8), (8, 6), (16, 10), (16, 6)), determinar o predecir a cuál dataset pertenecen, considerando que sólo pueden pertenecer a uno de ellos.\n",
        "\n",
        "En este cuaderno, planteamos una posible solución. Esta consiste en graficar los dataset en un plano donde cada eje corresponde a cada columna, y así visualizarlos en términos cualitativos. Es decir, tratemos de encontrar su \"forma\" o distribución, y en base a ella poder determinar cuál punto se acopla más al conjunto por semejanza.\n",
        "\n",
        "Cabe aclarar dos cuestiones:\n",
        "\n",
        "*   esta determinación es, por el momento, puramente cualitativa en contraste con los parámetros estadísticos (aunque puede cuantificarse).\n",
        "*   El criterio es fuertemente probabilístico, ya que la semejanza no es garantía de certeza, pues como va a verse en cada caso, las anomalías son situaciones posibles.\n",
        "\n",
        "Entonces, cada dataset el corresponde un gráfico conformado por puntos redondos y azules. Los puntos a determinar tienen forma de triángulo y colores distintos:\n",
        "\n",
        "\n",
        "*   (16, 8)  : rojo\n",
        "*   (8, 6)   : verde\n",
        "*   (16, 10) : amarillo\n",
        "*   (16, 6)  : cian\n",
        "\n",
        "\n",
        "\n"
      ]
    },
    {
      "cell_type": "code",
      "metadata": {
        "id": "peYXeSVf3x_7"
      },
      "source": [
        "import numpy as np\n",
        "import matplotlib.pyplot as plt\n",
        "\n",
        "i_x = np.array([10,8,13,9,11,14,6,4,12,7,5])\n",
        "i_y = np.array([8.04,6.95,7.58,8.81,8.33,9.96,7.24,4.26,10.84,4.82,5.68])\n",
        "\n",
        "ii_x = np.array([10,8,13,9,11,14,6,4,12,7,5])\n",
        "ii_y = np.array([9.14,8.14,8.74,8.77,9.26,8.10,6.13,3.10,9.13,7.26,4.74])\n",
        "\n",
        "iii_x = np.array([10,8,13,9,11,14,6,4,12,7,5])\n",
        "iii_y = np.array([7.46,6.77,12.74,7.11,7.81,8.84,6.08,5.39,8.15,6.42,5.73])\n",
        "\n",
        "iv_x = np.array([8,8,8,8,8,8,8,19,8,8,8])\n",
        "iv_y = np.array([6.58,5.76,7.79,8.84,8.47,7.04,5.25,12.50,5.56,7.91,6.89])\n",
        "\n",
        "p1_x = np.array([16])\n",
        "p1_y = np.array([8])\n",
        "\n",
        "p2_x = np.array([8])\n",
        "p2_y = np.array([6])\n",
        "\n",
        "p3_x = np.array([16])\n",
        "p3_y = np.array([10])\n",
        "\n",
        "p4_x = np.array([16])\n",
        "p4_y = np.array([6])\n",
        "\n"
      ],
      "execution_count": 2,
      "outputs": []
    },
    {
      "cell_type": "code",
      "metadata": {
        "colab": {
          "base_uri": "https://localhost:8080/",
          "height": 281
        },
        "id": "Mt8Jb5EX5aK9",
        "outputId": "35e99e03-f1e1-492e-91de-a8b708a10450"
      },
      "source": [
        "plt.scatter(i_x, i_y)\n",
        "plt.plot(p1_x,p1_y,'^r')\n",
        "plt.plot(p2_x,p2_y,'^g')\n",
        "plt.plot(p3_x,p3_y,'^y')\n",
        "plt.plot(p4_x,p4_y,'^c')\n",
        "\n",
        "\n",
        "plt.title('Dataset I')\n",
        "\n",
        "plt.show()\n"
      ],
      "execution_count": 3,
      "outputs": [
        {
          "output_type": "display_data",
          "data": {
            "image/png": "[encoded data removed]",
            "text/plain": [
              "<Figure size 432x288 with 1 Axes>"
            ]
          },
          "metadata": {
            "needs_background": "light"
          }
        }
      ]
    },
    {
      "cell_type": "markdown",
      "metadata": {
        "id": "8RtwwcMW8rzD"
      },
      "source": [
        "**I)** El primer dataset se muestra como una nube con cierta tendencia en el plano. A primera vista, cualquiera de los puntos triangulares podría conformar este dataset (quizás el triángulo cian no tanto), por lo que el gráfico aún no es concluyente. Afortunadamente, sabemos que los puntos nuevos deben pertenecer a uno y sólo uno de los datasets tratados, basándonos en el análisis de los demás.\n",
        "Como se verá en los siguientes casos, se concluye que el punto (16,8) (triángulo rojo) tiene la mayor probabilidad de pertenecer a este dataset."
      ]
    },
    {
      "cell_type": "code",
      "metadata": {
        "colab": {
          "base_uri": "https://localhost:8080/",
          "height": 298
        },
        "id": "69rLzTpv6JEE",
        "outputId": "20486900-df67-47d2-a61d-ae4955d9fa0d"
      },
      "source": [
        "plt.scatter(ii_x,ii_y)\n",
        "plt.plot(p1_x, p1_y,'^r')\n",
        "plt.plot(p2_x, p2_y,'^g')\n",
        "plt.plot(p3_x, p3_y,'^y')\n",
        "plt.plot(p4_x, p4_y,'^c')\n",
        "\n",
        "plt.title('Dataset II')"
      ],
      "execution_count": 4,
      "outputs": [
        {
          "output_type": "execute_result",
          "data": {
            "text/plain": [
              "Text(0.5, 1.0, 'Dataset II')"
            ]
          },
          "metadata": {},
          "execution_count": 4
        },
        {
          "output_type": "display_data",
          "data": {
            "image/png": "[encoded data removed]",
            "text/plain": [
              "<Figure size 432x288 with 1 Axes>"
            ]
          },
          "metadata": {
            "needs_background": "light"
          }
        }
      ]
    },
    {
      "cell_type": "markdown",
      "metadata": {
        "id": "7BaBWiKc8eui"
      },
      "source": [
        "**II)** El segundo dataset muestra una distribución digamos parabólica, por ponerle algún adjetivo. Luego, al ubicar en el plano los puntos nuevos, se puede visualizar que el punto (16, 6) (triángulo color cian) tiene la mayor probabilidad de pertenercer a este dataset, ya que \"continúa\" la curva que caracteriza a este dataset."
      ]
    },
    {
      "cell_type": "code",
      "metadata": {
        "colab": {
          "base_uri": "https://localhost:8080/",
          "height": 298
        },
        "id": "xsoEFN0N6JNb",
        "outputId": "2c4aa4c7-3a32-4c94-94e8-c058f4bfd66b"
      },
      "source": [
        "plt.scatter(iii_x,iii_y)\n",
        "plt.plot(p1_x, p1_y,'^r')\n",
        "plt.plot(p2_x, p2_y,'^g')\n",
        "plt.plot(p3_x, p3_y,'^y')\n",
        "plt.plot(p4_x, p4_y,'^c')\n",
        "plt.title('Dataset III')"
      ],
      "execution_count": 6,
      "outputs": [
        {
          "output_type": "execute_result",
          "data": {
            "text/plain": [
              "Text(0.5, 1.0, 'Dataset III')"
            ]
          },
          "metadata": {},
          "execution_count": 6
        },
        {
          "output_type": "display_data",
          "data": {
            "image/png": "[encoded data removed]",
            "text/plain": [
              "<Figure size 432x288 with 1 Axes>"
            ]
          },
          "metadata": {
            "needs_background": "light"
          }
        }
      ]
    },
    {
      "cell_type": "markdown",
      "metadata": {
        "id": "BsOKkXSL8jWU"
      },
      "source": [
        "**III)** El tercer dataset muestra una clara distribución lineal, a excepción del anteúltimo punto (en el sentido positivo del eje de abcisas), que puede interpretarse en algún contexto como una anomalía. De todas formas, podríamos apostar a que el punto (16, 10) (triángulo amarillo) pertenece a este tercer dataset, ya que, al igual que el caso anterior, \"continúa\" la forma del dataset."
      ]
    },
    {
      "cell_type": "code",
      "metadata": {
        "colab": {
          "base_uri": "https://localhost:8080/",
          "height": 298
        },
        "id": "JnwRy9Xt6JUt",
        "outputId": "4ed050ee-6752-4d11-85c1-d67c10b25062"
      },
      "source": [
        "plt.scatter(iv_x,iv_y)\n",
        "plt.plot(p1_x, p1_y,'^r')\n",
        "plt.plot(p2_x, p2_y,'^g')\n",
        "plt.plot(p3_x, p3_y,'^y')\n",
        "plt.plot(p4_x, p4_y,'^c')\n",
        "plt.title('Dataset IV')"
      ],
      "execution_count": 7,
      "outputs": [
        {
          "output_type": "execute_result",
          "data": {
            "text/plain": [
              "Text(0.5, 1.0, 'Dataset IV')"
            ]
          },
          "metadata": {},
          "execution_count": 7
        },
        {
          "output_type": "display_data",
          "data": {
            "image/png": "[encoded data removed]",
            "text/plain": [
              "<Figure size 432x288 with 1 Axes>"
            ]
          },
          "metadata": {
            "needs_background": "light"
          }
        }
      ]
    },
    {
      "cell_type": "markdown",
      "metadata": {
        "id": "7bDxmOuA8oM2"
      },
      "source": [
        "**IV)** Por último, el cuarto dataset muestra una distribución rectilínea, posándose verticalmente en la coordenada x=8. Esta vez, es el punto (8, 6) (triángulo verde) el que tiene mayor probabilidad de pertenecer a este lugar, por semejanza con la mayoría de sus integrantes. No obstante, este grupo también presenta lo que en el caso anterior llamamos anomalía, un punto que está muy alejado de la \"normalidad\" del grupo.\n"
      ]
    }
  ]
}